{
 "cells": [
  {
   "cell_type": "markdown",
   "metadata": {},
   "source": [
    "MODELO INSIGHTWISE"
   ]
  },
  {
   "cell_type": "code",
   "execution_count": 11,
   "metadata": {},
   "outputs": [
    {
     "ename": "ModuleNotFoundError",
     "evalue": "No module named 'streamlit'",
     "output_type": "error",
     "traceback": [
      "\u001b[1;31m---------------------------------------------------------------------------\u001b[0m",
      "\u001b[1;31mModuleNotFoundError\u001b[0m                       Traceback (most recent call last)",
      "Cell \u001b[1;32mIn[11], line 1\u001b[0m\n\u001b[1;32m----> 1\u001b[0m \u001b[38;5;28;01mimport\u001b[39;00m \u001b[38;5;21;01mstreamlit\u001b[39;00m \u001b[38;5;28;01mas\u001b[39;00m \u001b[38;5;21;01mst\u001b[39;00m\n\u001b[0;32m      2\u001b[0m \u001b[38;5;28;01mimport\u001b[39;00m \u001b[38;5;21;01mpandas\u001b[39;00m \u001b[38;5;28;01mas\u001b[39;00m \u001b[38;5;21;01mpd\u001b[39;00m\n\u001b[0;32m      3\u001b[0m \u001b[38;5;28;01mimport\u001b[39;00m \u001b[38;5;21;01mjson\u001b[39;00m\n",
      "\u001b[1;31mModuleNotFoundError\u001b[0m: No module named 'streamlit'"
     ]
    }
   ],
   "source": [
    "import streamlit as st\n",
    "import pandas as pd\n",
    "import json\n",
    "import matplotlib.pyplot as plt"
   ]
  },
  {
   "cell_type": "code",
   "execution_count": null,
   "metadata": {},
   "outputs": [],
   "source": [
    "# Carregar base de dados de processos ideais\n",
    "@st.cache\n",
    "def load_ideal_data(file_path):\n",
    "    df_ideal = pd.read_csv(file_path)\n",
    "    return df_ideal"
   ]
  },
  {
   "cell_type": "code",
   "execution_count": null,
   "metadata": {},
   "outputs": [],
   "source": [
    "# Carregar dados reais de processos produtivos do JSON\n",
    "def load_real_data(json_file):\n",
    "    with open(json_file) as f:\n",
    "        data = json.load(f)\n",
    "    df_real = pd.DataFrame(data)\n",
    "    return df_real"
   ]
  },
  {
   "cell_type": "code",
   "execution_count": null,
   "metadata": {},
   "outputs": [],
   "source": [
    "# Comparar os dados ideais e reais\n",
    "def compare_processes(df_ideal, df_real):\n",
    "    # Comparar as duas bases (você pode customizar isso de acordo com a natureza dos dados)\n",
    "    comparison = df_ideal.merge(df_real, on='process_id', suffixes=('_ideal', '_real'))\n",
    "    comparison['deviation'] = comparison['value_real'] - comparison['value_ideal']\n",
    "    return comparison"
   ]
  },
  {
   "cell_type": "code",
   "execution_count": null,
   "metadata": {},
   "outputs": [],
   "source": [
    "# Visualizar os dados comparados\n",
    "def plot_comparison(comparison_df, process_name):\n",
    "    filtered_df = comparison_df[comparison_df['process_name'] == process_name]\n",
    "    plt.figure(figsize=(10, 6))\n",
    "    plt.plot(filtered_df['step'], filtered_df['value_ideal'], label='Ideal', marker='o')\n",
    "    plt.plot(filtered_df['step'], filtered_df['value_real'], label='Real', marker='x')\n",
    "    plt.fill_between(filtered_df['step'], filtered_df['value_ideal'], filtered_df['value_real'], color='gray', alpha=0.3)\n",
    "    plt.title(f'Comparação do Processo: {process_name}')\n",
    "    plt.xlabel('Etapas')\n",
    "    plt.ylabel('Valor')\n",
    "    plt.legend()\n",
    "    st.pyplot(plt)"
   ]
  },
  {
   "cell_type": "code",
   "execution_count": null,
   "metadata": {},
   "outputs": [],
   "source": [
    "# Interface da aplicação Streamlit\n",
    "st.title('Análise Comparativa de Processos Produtivos')"
   ]
  },
  {
   "cell_type": "code",
   "execution_count": null,
   "metadata": {},
   "outputs": [],
   "source": [
    "# Carregar dados\n",
    "ideal_file = st.file_uploader(\"Carregar Base de Dados Ideal (CSV)\", type=['csv'])\n",
    "if ideal_file:\n",
    "    df_ideal = load_ideal_data(ideal_file)\n",
    "    st.write(\"Dados Ideais:\", df_ideal.head())\n",
    "\n",
    "json_file = st.file_uploader(\"Carregar Dados Reais (JSON)\", type=['json'])\n",
    "if json_file:\n",
    "    df_real = load_real_data(json_file)\n",
    "    st.write(\"Dados Reais:\", df_real.head())\n",
    "\n",
    "    # Realizar a comparação\n",
    "    comparison_df = compare_processes(df_ideal, df_real)\n",
    "    st.write(\"Dados Comparados:\", comparison_df.head())\n",
    "\n",
    "    # Seleção de processo para visualização detalhada\n",
    "    process_list = comparison_df['process_name'].unique()\n",
    "    selected_process = st.selectbox(\"Selecione um Processo para Visualizar\", process_list)\n",
    "\n",
    "    # Plotar a comparação\n",
    "    plot_comparison(comparison_df, selected_process)\n",
    "\n",
    "    # Exibir tabela de desvios\n",
    "    st.write(\"Desvios Observados:\", comparison_df[['process_name', 'step', 'deviation']])"
   ]
  }
 ],
 "metadata": {
  "kernelspec": {
   "display_name": "Python 3",
   "language": "python",
   "name": "python3"
  },
  "language_info": {
   "codemirror_mode": {
    "name": "ipython",
    "version": 3
   },
   "file_extension": ".py",
   "mimetype": "text/x-python",
   "name": "python",
   "nbconvert_exporter": "python",
   "pygments_lexer": "ipython3",
   "version": "3.10.0"
  }
 },
 "nbformat": 4,
 "nbformat_minor": 2
}
