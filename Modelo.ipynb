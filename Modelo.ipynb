{
 "cells": [
  {
   "cell_type": "markdown",
   "metadata": {},
   "source": [
    "SOMENTE PARA TESTE DE EXECUÇÃO - MODELO INSIGHTWISE"
   ]
  },
  {
   "cell_type": "code",
   "execution_count": 6,
   "metadata": {},
   "outputs": [
    {
     "name": "stdout",
     "output_type": "stream",
     "text": [
      "Collecting streamlit\n",
      "  Downloading streamlit-1.38.0-py2.py3-none-any.whl (8.7 MB)\n",
      "Collecting click<9,>=7.0\n",
      "  Downloading click-8.1.7-py3-none-any.whl (97 kB)\n",
      "Collecting blinker<2,>=1.0.0\n",
      "  Downloading blinker-1.8.2-py3-none-any.whl (9.5 kB)\n",
      "Collecting pydeck<1,>=0.8.0b4\n",
      "  Downloading pydeck-0.9.1-py2.py3-none-any.whl (6.9 MB)\n",
      "Collecting watchdog<5,>=2.1.5\n",
      "  Downloading watchdog-4.0.2-py3-none-win_amd64.whl (82 kB)\n",
      "Requirement already satisfied: typing-extensions<5,>=4.3.0 in c:\\users\\user\\appdata\\roaming\\python\\python310\\site-packages (from streamlit) (4.12.2)\n",
      "Collecting gitpython!=3.1.19,<4,>=3.0.7\n",
      "  Downloading GitPython-3.1.43-py3-none-any.whl (207 kB)\n",
      "Requirement already satisfied: tornado<7,>=6.0.3 in c:\\users\\user\\appdata\\roaming\\python\\python310\\site-packages (from streamlit) (6.4.1)\n",
      "Requirement already satisfied: packaging<25,>=20 in c:\\users\\user\\appdata\\roaming\\python\\python310\\site-packages (from streamlit) (24.1)\n",
      "Collecting protobuf<6,>=3.20\n",
      "  Downloading protobuf-5.28.0-cp310-abi3-win_amd64.whl (431 kB)\n",
      "Collecting pyarrow>=7.0\n",
      "  Downloading pyarrow-17.0.0-cp310-cp310-win_amd64.whl (25.1 MB)\n",
      "Collecting pandas<3,>=1.3.0\n",
      "  Downloading pandas-2.2.2-cp310-cp310-win_amd64.whl (11.6 MB)\n",
      "Collecting pillow<11,>=7.1.0\n",
      "  Downloading pillow-10.4.0-cp310-cp310-win_amd64.whl (2.6 MB)\n",
      "Collecting rich<14,>=10.14.0\n",
      "  Downloading rich-13.8.0-py3-none-any.whl (241 kB)\n",
      "Collecting requests<3,>=2.27\n",
      "  Downloading requests-2.32.3-py3-none-any.whl (64 kB)\n",
      "Collecting numpy<3,>=1.20\n",
      "  Downloading numpy-2.1.1-cp310-cp310-win_amd64.whl (12.9 MB)\n",
      "Collecting altair<6,>=4.0\n",
      "  Downloading altair-5.4.1-py3-none-any.whl (658 kB)\n",
      "Collecting cachetools<6,>=4.0\n",
      "  Downloading cachetools-5.5.0-py3-none-any.whl (9.5 kB)\n",
      "Collecting toml<2,>=0.10.1\n",
      "  Downloading toml-0.10.2-py2.py3-none-any.whl (16 kB)\n",
      "Collecting tenacity<9,>=8.1.0\n",
      "  Downloading tenacity-8.5.0-py3-none-any.whl (28 kB)\n",
      "Collecting narwhals>=1.5.2\n",
      "  Downloading narwhals-1.6.2-py3-none-any.whl (159 kB)\n",
      "Collecting jsonschema>=3.0\n",
      "  Downloading jsonschema-4.23.0-py3-none-any.whl (88 kB)\n",
      "Collecting jinja2\n",
      "  Downloading jinja2-3.1.4-py3-none-any.whl (133 kB)\n",
      "Requirement already satisfied: colorama in c:\\users\\user\\appdata\\roaming\\python\\python310\\site-packages (from click<9,>=7.0->streamlit) (0.4.6)\n",
      "Collecting gitdb<5,>=4.0.1\n",
      "  Downloading gitdb-4.0.11-py3-none-any.whl (62 kB)\n",
      "Collecting smmap<6,>=3.0.1\n",
      "  Downloading smmap-5.0.1-py3-none-any.whl (24 kB)\n",
      "Collecting rpds-py>=0.7.1\n",
      "  Downloading rpds_py-0.20.0-cp310-none-win_amd64.whl (213 kB)\n",
      "Collecting jsonschema-specifications>=2023.03.6\n",
      "  Downloading jsonschema_specifications-2023.12.1-py3-none-any.whl (18 kB)\n",
      "Collecting attrs>=22.2.0\n",
      "  Downloading attrs-24.2.0-py3-none-any.whl (63 kB)\n",
      "Collecting referencing>=0.28.4\n",
      "  Downloading referencing-0.35.1-py3-none-any.whl (26 kB)\n",
      "Collecting pytz>=2020.1\n",
      "  Downloading pytz-2024.1-py2.py3-none-any.whl (505 kB)\n",
      "Collecting tzdata>=2022.7\n",
      "  Downloading tzdata-2024.1-py2.py3-none-any.whl (345 kB)\n",
      "Requirement already satisfied: python-dateutil>=2.8.2 in c:\\users\\user\\appdata\\roaming\\python\\python310\\site-packages (from pandas<3,>=1.3.0->streamlit) (2.9.0.post0)\n",
      "Collecting MarkupSafe>=2.0\n",
      "  Downloading MarkupSafe-2.1.5-cp310-cp310-win_amd64.whl (17 kB)\n",
      "Requirement already satisfied: six>=1.5 in c:\\users\\user\\appdata\\roaming\\python\\python310\\site-packages (from python-dateutil>=2.8.2->pandas<3,>=1.3.0->streamlit) (1.16.0)\n",
      "Collecting urllib3<3,>=1.21.1\n",
      "  Downloading urllib3-2.2.2-py3-none-any.whl (121 kB)\n",
      "Collecting charset-normalizer<4,>=2\n",
      "  Downloading charset_normalizer-3.3.2-cp310-cp310-win_amd64.whl (100 kB)\n",
      "Collecting certifi>=2017.4.17\n",
      "  Downloading certifi-2024.8.30-py3-none-any.whl (167 kB)\n",
      "Collecting idna<4,>=2.5\n",
      "  Downloading idna-3.8-py3-none-any.whl (66 kB)\n",
      "Collecting markdown-it-py>=2.2.0\n",
      "  Downloading markdown_it_py-3.0.0-py3-none-any.whl (87 kB)\n",
      "Requirement already satisfied: pygments<3.0.0,>=2.13.0 in c:\\users\\user\\appdata\\roaming\\python\\python310\\site-packages (from rich<14,>=10.14.0->streamlit) (2.18.0)\n",
      "Collecting mdurl~=0.1\n",
      "  Downloading mdurl-0.1.2-py3-none-any.whl (10.0 kB)\n",
      "Installing collected packages: rpds-py, attrs, referencing, smmap, mdurl, MarkupSafe, jsonschema-specifications, urllib3, tzdata, pytz, numpy, narwhals, markdown-it-py, jsonschema, jinja2, idna, gitdb, charset-normalizer, certifi, watchdog, toml, tenacity, rich, requests, pydeck, pyarrow, protobuf, pillow, pandas, gitpython, click, cachetools, blinker, altair, streamlit\n",
      "Successfully installed MarkupSafe-2.1.5 altair-5.4.1 attrs-24.2.0 blinker-1.8.2 cachetools-5.5.0 certifi-2024.8.30 charset-normalizer-3.3.2 click-8.1.7 gitdb-4.0.11 gitpython-3.1.43 idna-3.8 jinja2-3.1.4 jsonschema-4.23.0 jsonschema-specifications-2023.12.1 markdown-it-py-3.0.0 mdurl-0.1.2 narwhals-1.6.2 numpy-2.1.1 pandas-2.2.2 pillow-10.4.0 protobuf-5.28.0 pyarrow-17.0.0 pydeck-0.9.1 pytz-2024.1 referencing-0.35.1 requests-2.32.3 rich-13.8.0 rpds-py-0.20.0 smmap-5.0.1 streamlit-1.38.0 tenacity-8.5.0 toml-0.10.2 tzdata-2024.1 urllib3-2.2.2 watchdog-4.0.2\n",
      "Note: you may need to restart the kernel to use updated packages.\n"
     ]
    },
    {
     "name": "stderr",
     "output_type": "stream",
     "text": [
      "  WARNING: The scripts f2py.exe and numpy-config.exe are installed in 'c:\\Users\\User\\AppData\\Local\\Programs\\Python\\Python310\\Scripts' which is not on PATH.\n",
      "  Consider adding this directory to PATH or, if you prefer to suppress this warning, use --no-warn-script-location.\n",
      "  WARNING: The script markdown-it.exe is installed in 'c:\\Users\\User\\AppData\\Local\\Programs\\Python\\Python310\\Scripts' which is not on PATH.\n",
      "  Consider adding this directory to PATH or, if you prefer to suppress this warning, use --no-warn-script-location.\n",
      "  WARNING: The script jsonschema.exe is installed in 'c:\\Users\\User\\AppData\\Local\\Programs\\Python\\Python310\\Scripts' which is not on PATH.\n",
      "  Consider adding this directory to PATH or, if you prefer to suppress this warning, use --no-warn-script-location.\n",
      "  WARNING: The script normalizer.exe is installed in 'c:\\Users\\User\\AppData\\Local\\Programs\\Python\\Python310\\Scripts' which is not on PATH.\n",
      "  Consider adding this directory to PATH or, if you prefer to suppress this warning, use --no-warn-script-location.\n",
      "  WARNING: The script watchmedo.exe is installed in 'c:\\Users\\User\\AppData\\Local\\Programs\\Python\\Python310\\Scripts' which is not on PATH.\n",
      "  Consider adding this directory to PATH or, if you prefer to suppress this warning, use --no-warn-script-location.\n",
      "  WARNING: The script streamlit.exe is installed in 'c:\\Users\\User\\AppData\\Local\\Programs\\Python\\Python310\\Scripts' which is not on PATH.\n",
      "  Consider adding this directory to PATH or, if you prefer to suppress this warning, use --no-warn-script-location.\n",
      "WARNING: You are using pip version 21.2.3; however, version 24.2 is available.\n",
      "You should consider upgrading via the 'c:\\Users\\User\\AppData\\Local\\Programs\\Python\\Python310\\python.exe -m pip install --upgrade pip' command.\n"
     ]
    }
   ],
   "source": [
    "pip install streamlit"
   ]
  },
  {
   "cell_type": "code",
   "execution_count": 8,
   "metadata": {},
   "outputs": [
    {
     "name": "stdout",
     "output_type": "stream",
     "text": [
      "Collecting matplotlib\n",
      "  Downloading matplotlib-3.9.2-cp310-cp310-win_amd64.whl (7.8 MB)\n",
      "Collecting pyparsing>=2.3.1\n",
      "  Downloading pyparsing-3.1.4-py3-none-any.whl (104 kB)\n",
      "Collecting contourpy>=1.0.1\n",
      "  Downloading contourpy-1.3.0-cp310-cp310-win_amd64.whl (216 kB)\n",
      "Requirement already satisfied: python-dateutil>=2.7 in c:\\users\\user\\appdata\\roaming\\python\\python310\\site-packages (from matplotlib) (2.9.0.post0)\n",
      "Collecting fonttools>=4.22.0\n",
      "  Downloading fonttools-4.53.1-cp310-cp310-win_amd64.whl (2.2 MB)\n",
      "Collecting cycler>=0.10\n",
      "  Downloading cycler-0.12.1-py3-none-any.whl (8.3 kB)\n",
      "Requirement already satisfied: numpy>=1.23 in c:\\users\\user\\appdata\\local\\programs\\python\\python310\\lib\\site-packages (from matplotlib) (2.1.1)\n",
      "Collecting kiwisolver>=1.3.1\n",
      "  Downloading kiwisolver-1.4.7-cp310-cp310-win_amd64.whl (55 kB)\n",
      "Requirement already satisfied: packaging>=20.0 in c:\\users\\user\\appdata\\roaming\\python\\python310\\site-packages (from matplotlib) (24.1)\n",
      "Requirement already satisfied: pillow>=8 in c:\\users\\user\\appdata\\local\\programs\\python\\python310\\lib\\site-packages (from matplotlib) (10.4.0)\n",
      "Requirement already satisfied: six>=1.5 in c:\\users\\user\\appdata\\roaming\\python\\python310\\site-packages (from python-dateutil>=2.7->matplotlib) (1.16.0)\n",
      "Installing collected packages: pyparsing, kiwisolver, fonttools, cycler, contourpy, matplotlib\n",
      "Successfully installed contourpy-1.3.0 cycler-0.12.1 fonttools-4.53.1 kiwisolver-1.4.7 matplotlib-3.9.2 pyparsing-3.1.4\n",
      "Note: you may need to restart the kernel to use updated packages.\n"
     ]
    },
    {
     "name": "stderr",
     "output_type": "stream",
     "text": [
      "  WARNING: The scripts fonttools.exe, pyftmerge.exe, pyftsubset.exe and ttx.exe are installed in 'c:\\Users\\User\\AppData\\Local\\Programs\\Python\\Python310\\Scripts' which is not on PATH.\n",
      "  Consider adding this directory to PATH or, if you prefer to suppress this warning, use --no-warn-script-location.\n",
      "WARNING: You are using pip version 21.2.3; however, version 24.2 is available.\n",
      "You should consider upgrading via the 'c:\\Users\\User\\AppData\\Local\\Programs\\Python\\Python310\\python.exe -m pip install --upgrade pip' command.\n"
     ]
    }
   ],
   "source": [
    "pip install matplotlib"
   ]
  },
  {
   "cell_type": "code",
   "execution_count": 12,
   "metadata": {},
   "outputs": [
    {
     "name": "stdout",
     "output_type": "stream",
     "text": [
      "Collecting openpyxl\n",
      "  Downloading openpyxl-3.1.5-py2.py3-none-any.whl (250 kB)\n",
      "Collecting et-xmlfile\n",
      "  Downloading et_xmlfile-1.1.0-py3-none-any.whl (4.7 kB)\n",
      "Installing collected packages: et-xmlfile, openpyxl\n",
      "Successfully installed et-xmlfile-1.1.0 openpyxl-3.1.5\n",
      "Note: you may need to restart the kernel to use updated packages.\n"
     ]
    },
    {
     "name": "stderr",
     "output_type": "stream",
     "text": [
      "WARNING: You are using pip version 21.2.3; however, version 24.2 is available.\n",
      "You should consider upgrading via the 'c:\\Users\\User\\AppData\\Local\\Programs\\Python\\Python310\\python.exe -m pip install --upgrade pip' command.\n"
     ]
    }
   ],
   "source": [
    "pip install openpyxl"
   ]
  },
  {
   "cell_type": "code",
   "execution_count": 1,
   "metadata": {},
   "outputs": [],
   "source": [
    "import streamlit as st\n",
    "import pandas as pd\n",
    "import json\n",
    "import matplotlib.pyplot as plt"
   ]
  },
  {
   "cell_type": "code",
   "execution_count": 2,
   "metadata": {},
   "outputs": [],
   "source": [
    "# Carregar dados 1\n",
    "\n",
    "\n",
    "# Defina o caminho para o arquivo\n",
    "file_path = r\"c:\\Users\\User\\Downloads\\preco-medio-por-embalagem.xlsx\"\n",
    "# Carregar dados reais a partir de um arquivo CSV\n",
    "def load_ideal_data(file_path):\n",
    "    df_ideal = pd.read_excel(file_path, engine='openpyxl')  # ou a codificação apropriada\n",
    "    return df_ideal\n",
    "df_ideal = load_ideal_data(file_path)\n"
   ]
  },
  {
   "cell_type": "code",
   "execution_count": 3,
   "metadata": {},
   "outputs": [
    {
     "data": {
      "text/html": [
       "<div>\n",
       "<style scoped>\n",
       "    .dataframe tbody tr th:only-of-type {\n",
       "        vertical-align: middle;\n",
       "    }\n",
       "\n",
       "    .dataframe tbody tr th {\n",
       "        vertical-align: top;\n",
       "    }\n",
       "\n",
       "    .dataframe thead th {\n",
       "        text-align: right;\n",
       "    }\n",
       "</style>\n",
       "<table border=\"1\" class=\"dataframe\">\n",
       "  <thead>\n",
       "    <tr style=\"text-align: right;\">\n",
       "      <th></th>\n",
       "      <th>Período</th>\n",
       "      <th>Região</th>\n",
       "      <th>Valor PVP (Ambulatório)</th>\n",
       "      <th>Nº Embalagens (Ambulatório)</th>\n",
       "      <th>Preço Médio por Embalagem (Ambulatório)</th>\n",
       "      <th>Valor PVP (Genéricos)</th>\n",
       "      <th>Nº Embalagens (Genéricos)</th>\n",
       "      <th>Preço Médio por Embalagem (Genéricos)</th>\n",
       "    </tr>\n",
       "  </thead>\n",
       "  <tbody>\n",
       "    <tr>\n",
       "      <th>0</th>\n",
       "      <td>2011-01</td>\n",
       "      <td>Alentejo</td>\n",
       "      <td>8407221.91</td>\n",
       "      <td>560492</td>\n",
       "      <td>14.999718</td>\n",
       "      <td>2187532.16</td>\n",
       "      <td>168551</td>\n",
       "      <td>12.978459</td>\n",
       "    </tr>\n",
       "    <tr>\n",
       "      <th>1</th>\n",
       "      <td>2011-01</td>\n",
       "      <td>Algarve</td>\n",
       "      <td>6321402.15</td>\n",
       "      <td>395084</td>\n",
       "      <td>16.000147</td>\n",
       "      <td>1436135.96</td>\n",
       "      <td>104519</td>\n",
       "      <td>13.740430</td>\n",
       "    </tr>\n",
       "    <tr>\n",
       "      <th>2</th>\n",
       "      <td>2011-01</td>\n",
       "      <td>Lisboa</td>\n",
       "      <td>58846110.08</td>\n",
       "      <td>3987595</td>\n",
       "      <td>14.757294</td>\n",
       "      <td>13340524.26</td>\n",
       "      <td>1120887</td>\n",
       "      <td>11.901757</td>\n",
       "    </tr>\n",
       "    <tr>\n",
       "      <th>3</th>\n",
       "      <td>2011-02</td>\n",
       "      <td>Alentejo</td>\n",
       "      <td>8277177.61</td>\n",
       "      <td>543203</td>\n",
       "      <td>15.237724</td>\n",
       "      <td>2149086.22</td>\n",
       "      <td>165151</td>\n",
       "      <td>13.012856</td>\n",
       "    </tr>\n",
       "    <tr>\n",
       "      <th>4</th>\n",
       "      <td>2011-03</td>\n",
       "      <td>Alentejo</td>\n",
       "      <td>9255034.53</td>\n",
       "      <td>600621</td>\n",
       "      <td>15.409109</td>\n",
       "      <td>2398158.46</td>\n",
       "      <td>184774</td>\n",
       "      <td>12.978874</td>\n",
       "    </tr>\n",
       "  </tbody>\n",
       "</table>\n",
       "</div>"
      ],
      "text/plain": [
       "   Período    Região  Valor PVP (Ambulatório)  Nº Embalagens (Ambulatório)  \\\n",
       "0  2011-01  Alentejo               8407221.91                       560492   \n",
       "1  2011-01   Algarve               6321402.15                       395084   \n",
       "2  2011-01    Lisboa              58846110.08                      3987595   \n",
       "3  2011-02  Alentejo               8277177.61                       543203   \n",
       "4  2011-03  Alentejo               9255034.53                       600621   \n",
       "\n",
       "   Preço Médio por Embalagem (Ambulatório)  Valor PVP (Genéricos)  \\\n",
       "0                                14.999718             2187532.16   \n",
       "1                                16.000147             1436135.96   \n",
       "2                                14.757294            13340524.26   \n",
       "3                                15.237724             2149086.22   \n",
       "4                                15.409109             2398158.46   \n",
       "\n",
       "   Nº Embalagens (Genéricos)  Preço Médio por Embalagem (Genéricos)  \n",
       "0                     168551                              12.978459  \n",
       "1                     104519                              13.740430  \n",
       "2                    1120887                              11.901757  \n",
       "3                     165151                              13.012856  \n",
       "4                     184774                              12.978874  "
      ]
     },
     "execution_count": 3,
     "metadata": {},
     "output_type": "execute_result"
    }
   ],
   "source": [
    "df_ideal.head()"
   ]
  },
  {
   "cell_type": "code",
   "execution_count": 4,
   "metadata": {},
   "outputs": [],
   "source": [
    "# Carregar dados 2\n",
    "\n",
    "# Defina o caminho para o arquivo\n",
    "file_path = r\"c:\\Users\\User\\Downloads\\preco-medio-por-embalagem.xlsx\"\n",
    "# Carregar dados reais a partir de um arquivo CSV\n",
    "def load_real_data(file_path):\n",
    "    df_real = pd.read_excel(file_path, engine='openpyxl')  # ou a codificação apropriada\n",
    "    return df_real\n",
    "df_real = load_real_data(file_path)"
   ]
  },
  {
   "cell_type": "code",
   "execution_count": 5,
   "metadata": {},
   "outputs": [
    {
     "data": {
      "text/html": [
       "<div>\n",
       "<style scoped>\n",
       "    .dataframe tbody tr th:only-of-type {\n",
       "        vertical-align: middle;\n",
       "    }\n",
       "\n",
       "    .dataframe tbody tr th {\n",
       "        vertical-align: top;\n",
       "    }\n",
       "\n",
       "    .dataframe thead th {\n",
       "        text-align: right;\n",
       "    }\n",
       "</style>\n",
       "<table border=\"1\" class=\"dataframe\">\n",
       "  <thead>\n",
       "    <tr style=\"text-align: right;\">\n",
       "      <th></th>\n",
       "      <th>Período</th>\n",
       "      <th>Região</th>\n",
       "      <th>Valor PVP (Ambulatório)</th>\n",
       "      <th>Nº Embalagens (Ambulatório)</th>\n",
       "      <th>Preço Médio por Embalagem (Ambulatório)</th>\n",
       "      <th>Valor PVP (Genéricos)</th>\n",
       "      <th>Nº Embalagens (Genéricos)</th>\n",
       "      <th>Preço Médio por Embalagem (Genéricos)</th>\n",
       "    </tr>\n",
       "  </thead>\n",
       "  <tbody>\n",
       "    <tr>\n",
       "      <th>0</th>\n",
       "      <td>2011-01</td>\n",
       "      <td>Alentejo</td>\n",
       "      <td>8407221.91</td>\n",
       "      <td>560492</td>\n",
       "      <td>14.999718</td>\n",
       "      <td>2187532.16</td>\n",
       "      <td>168551</td>\n",
       "      <td>12.978459</td>\n",
       "    </tr>\n",
       "    <tr>\n",
       "      <th>1</th>\n",
       "      <td>2011-01</td>\n",
       "      <td>Algarve</td>\n",
       "      <td>6321402.15</td>\n",
       "      <td>395084</td>\n",
       "      <td>16.000147</td>\n",
       "      <td>1436135.96</td>\n",
       "      <td>104519</td>\n",
       "      <td>13.740430</td>\n",
       "    </tr>\n",
       "    <tr>\n",
       "      <th>2</th>\n",
       "      <td>2011-01</td>\n",
       "      <td>Lisboa</td>\n",
       "      <td>58846110.08</td>\n",
       "      <td>3987595</td>\n",
       "      <td>14.757294</td>\n",
       "      <td>13340524.26</td>\n",
       "      <td>1120887</td>\n",
       "      <td>11.901757</td>\n",
       "    </tr>\n",
       "    <tr>\n",
       "      <th>3</th>\n",
       "      <td>2011-02</td>\n",
       "      <td>Alentejo</td>\n",
       "      <td>8277177.61</td>\n",
       "      <td>543203</td>\n",
       "      <td>15.237724</td>\n",
       "      <td>2149086.22</td>\n",
       "      <td>165151</td>\n",
       "      <td>13.012856</td>\n",
       "    </tr>\n",
       "    <tr>\n",
       "      <th>4</th>\n",
       "      <td>2011-03</td>\n",
       "      <td>Alentejo</td>\n",
       "      <td>9255034.53</td>\n",
       "      <td>600621</td>\n",
       "      <td>15.409109</td>\n",
       "      <td>2398158.46</td>\n",
       "      <td>184774</td>\n",
       "      <td>12.978874</td>\n",
       "    </tr>\n",
       "  </tbody>\n",
       "</table>\n",
       "</div>"
      ],
      "text/plain": [
       "   Período    Região  Valor PVP (Ambulatório)  Nº Embalagens (Ambulatório)  \\\n",
       "0  2011-01  Alentejo               8407221.91                       560492   \n",
       "1  2011-01   Algarve               6321402.15                       395084   \n",
       "2  2011-01    Lisboa              58846110.08                      3987595   \n",
       "3  2011-02  Alentejo               8277177.61                       543203   \n",
       "4  2011-03  Alentejo               9255034.53                       600621   \n",
       "\n",
       "   Preço Médio por Embalagem (Ambulatório)  Valor PVP (Genéricos)  \\\n",
       "0                                14.999718             2187532.16   \n",
       "1                                16.000147             1436135.96   \n",
       "2                                14.757294            13340524.26   \n",
       "3                                15.237724             2149086.22   \n",
       "4                                15.409109             2398158.46   \n",
       "\n",
       "   Nº Embalagens (Genéricos)  Preço Médio por Embalagem (Genéricos)  \n",
       "0                     168551                              12.978459  \n",
       "1                     104519                              13.740430  \n",
       "2                    1120887                              11.901757  \n",
       "3                     165151                              13.012856  \n",
       "4                     184774                              12.978874  "
      ]
     },
     "execution_count": 5,
     "metadata": {},
     "output_type": "execute_result"
    }
   ],
   "source": [
    "df_real.head()"
   ]
  },
  {
   "cell_type": "code",
   "execution_count": 6,
   "metadata": {},
   "outputs": [],
   "source": [
    "# Comparar os dados ideais e reais\n",
    "def compare_processes(df_ideal, df_real):\n",
    "    # Comparar as duas bases (personalize conforme a natureza dos dados)\n",
    "    comparison = df_ideal.merge(df_real, on='Período', suffixes=('_ideal', '_real'))\n",
    "    comparison['deviation'] = comparison['Valor PVP (Ambulatório)_real'] - comparison['Valor PVP (Ambulatório)_ideal']\n",
    "    return comparison\n",
    "\n",
    "comparison_df = compare_processes(df_ideal, df_real)"
   ]
  },
  {
   "cell_type": "code",
   "execution_count": 7,
   "metadata": {},
   "outputs": [],
   "source": [
    "# Calcular a porcentagem de similaridade\n",
    "def calculate_similarity(comparison_df):\n",
    "    # Calcula a média dos desvios absolutos\n",
    "    mean_deviation = comparison_df['deviation'].abs().mean()\n",
    "    # Calcula a média dos valores ideais\n",
    "    mean_ideal_value = comparison_df['Valor PVP (Ambulatório)_ideal'].mean()\n",
    "    # Calcula o erro percentual médio\n",
    "    mean_percentage_error = (mean_deviation / mean_ideal_value) * 100\n",
    "    # Calcula a porcentagem de similaridade\n",
    "    similarity_percentage = 100 - mean_percentage_error\n",
    "    return similarity_percentage"
   ]
  },
  {
   "cell_type": "code",
   "execution_count": 8,
   "metadata": {},
   "outputs": [],
   "source": [
    "# Visualizar os dados comparados\n",
    "def plot_comparison(comparison_df, process_name):\n",
    "    filtered_df = comparison_df[comparison_df['Região_ideal'] == process_name]\n",
    "    plt.figure(figsize=(10, 6))\n",
    "    plt.plot(filtered_df['Período'], filtered_df['Valor PVP (Ambulatório)_ideal'], label='Ideal', marker='o')\n",
    "    plt.plot(filtered_df['Período'], filtered_df['Valor PVP (Ambulatório)_real'], label='Real', marker='x')\n",
    "    plt.fill_between(filtered_df['Período'], filtered_df['Valor PVP (Ambulatório)_ideal'], filtered_df['Valor PVP (Ambulatório)_real'], color='gray', alpha=0.3)\n",
    "    plt.title(f'Comparação do Processo: {process_name}')\n",
    "    plt.xlabel('Período')\n",
    "    plt.ylabel('Valor PVP (Ambulatório)')\n",
    "    plt.legend()\n",
    "    st.pyplot(plt)"
   ]
  },
  {
   "cell_type": "code",
   "execution_count": 9,
   "metadata": {},
   "outputs": [
    {
     "name": "stderr",
     "output_type": "stream",
     "text": [
      "2024-09-06 14:37:57.173 WARNING streamlit.runtime.scriptrunner_utils.script_run_context: Thread 'MainThread': missing ScriptRunContext! This warning can be ignored when running in bare mode.\n",
      "2024-09-06 14:37:57.599 \n",
      "  \u001b[33m\u001b[1mWarning:\u001b[0m to view this Streamlit app on a browser, run it with the following\n",
      "  command:\n",
      "\n",
      "    streamlit run C:\\Users\\User\\AppData\\Roaming\\Python\\Python310\\site-packages\\ipykernel_launcher.py [ARGUMENTS]\n",
      "2024-09-06 14:37:57.600 Thread 'MainThread': missing ScriptRunContext! This warning can be ignored when running in bare mode.\n"
     ]
    },
    {
     "data": {
      "text/plain": [
       "DeltaGenerator()"
      ]
     },
     "execution_count": 9,
     "metadata": {},
     "output_type": "execute_result"
    }
   ],
   "source": [
    "# Interface da aplicação Streamlit\n",
    "st.title('Análise Comparativa de Processos Produtivos')"
   ]
  },
  {
   "cell_type": "code",
   "execution_count": 10,
   "metadata": {},
   "outputs": [
    {
     "name": "stderr",
     "output_type": "stream",
     "text": [
      "2024-09-06 14:38:03.310 Thread 'MainThread': missing ScriptRunContext! This warning can be ignored when running in bare mode.\n",
      "2024-09-06 14:38:03.312 Thread 'MainThread': missing ScriptRunContext! This warning can be ignored when running in bare mode.\n",
      "2024-09-06 14:38:03.314 Thread 'MainThread': missing ScriptRunContext! This warning can be ignored when running in bare mode.\n",
      "2024-09-06 14:38:03.316 Thread 'MainThread': missing ScriptRunContext! This warning can be ignored when running in bare mode.\n",
      "2024-09-06 14:38:03.317 Thread 'MainThread': missing ScriptRunContext! This warning can be ignored when running in bare mode.\n",
      "2024-09-06 14:38:03.318 Thread 'MainThread': missing ScriptRunContext! This warning can be ignored when running in bare mode.\n",
      "2024-09-06 14:38:03.318 Thread 'MainThread': missing ScriptRunContext! This warning can be ignored when running in bare mode.\n",
      "2024-09-06 14:38:03.319 Thread 'MainThread': missing ScriptRunContext! This warning can be ignored when running in bare mode.\n"
     ]
    }
   ],
   "source": [
    "# Carregar dados\n",
    "ideal_file = st.file_uploader(\"Carregar Base de Dados Ideal (Excel)\", type=['xlsx'])\n",
    "if ideal_file:\n",
    "    df_ideal = load_ideal_data(ideal_file)\n",
    "    st.write(\"Dados Ideais:\", df_ideal.head())\n",
    "\n",
    "real_file = st.file_uploader(\"Carregar Dados Reais (Excel)\", type=['xlsx'])\n",
    "if real_file:\n",
    "    df_real = load_real_data(real_file)\n",
    "    st.write(\"Dados Reais:\", df_real.head())\n",
    "\n",
    "    if 'df_ideal' in locals() and 'df_real' in locals():\n",
    "        # Realizar a comparação\n",
    "        comparison_df = compare_processes(df_ideal, df_real)\n",
    "        st.write(\"Dados Comparados:\", comparison_df.head())\n",
    "\n",
    "        # Calcular a porcentagem de similaridade\n",
    "        similarity_percentage = calculate_similarity(comparison_df)\n",
    "        st.write(f\"Porcentagem de Similaridade: {similarity_percentage:.2f}%\")\n",
    "\n",
    "        # Seleção de processo para visualização detalhada\n",
    "        process_list = comparison_df['Região_ideal'].unique()\n",
    "        selected_process = st.selectbox(\"Selecione uma Região para Visualizar\", process_list)\n",
    "\n",
    "        # Plotar a comparação\n",
    "        plot_comparison(comparison_df, selected_process)\n",
    "\n",
    "        # Exibir tabela de desvios\n",
    "        st.write(\"Desvios Observados:\", comparison_df[['Região_ideal', 'Período', 'deviation']])"
   ]
  }
 ],
 "metadata": {
  "kernelspec": {
   "display_name": "Python 3",
   "language": "python",
   "name": "python3"
  },
  "language_info": {
   "codemirror_mode": {
    "name": "ipython",
    "version": 3
   },
   "file_extension": ".py",
   "mimetype": "text/x-python",
   "name": "python",
   "nbconvert_exporter": "python",
   "pygments_lexer": "ipython3",
   "version": "3.10.0"
  }
 },
 "nbformat": 4,
 "nbformat_minor": 2
}
